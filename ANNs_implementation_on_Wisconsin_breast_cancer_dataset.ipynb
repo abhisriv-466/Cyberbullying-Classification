{
  "nbformat": 4,
  "nbformat_minor": 0,
  "metadata": {
    "colab": {
      "provenance": [],
      "include_colab_link": true
    },
    "kernelspec": {
      "name": "python3",
      "display_name": "Python 3"
    },
    "language_info": {
      "name": "python"
    }
  },
  "cells": [
    {
      "cell_type": "markdown",
      "metadata": {
        "id": "view-in-github",
        "colab_type": "text"
      },
      "source": [
        "<a href=\"https://colab.research.google.com/github/abhisriv-466/Cyberbullying-Classification/blob/main/ANNs_implementation_on_Wisconsin_breast_cancer_dataset.ipynb\" target=\"_parent\"><img src=\"https://colab.research.google.com/assets/colab-badge.svg\" alt=\"Open In Colab\"/></a>"
      ]
    },
    {
      "cell_type": "markdown",
      "source": [
        "You can use the Breast Cancer Wisconsin Dataset. The dataset contains various features computed from digitized images of breast mass, and the task is to predict whether the mass is benign or malignant. You can download the dataset from the UCI Machine Learning Repository using the following URL:\n",
        "\n",
        "Breast Cancer Wisconsin Dataset: https://archive.ics.uci.edu/ml/machine-learning-databases/breast-cancer-wisconsin/wdbc.data"
      ],
      "metadata": {
        "id": "Wp5VOsggizXR"
      }
    },
    {
      "cell_type": "markdown",
      "source": [
        "Building an Artificial Neural Network (ANN) for Binary Classification"
      ],
      "metadata": {
        "id": "5TF1rC-OhGvN"
      }
    },
    {
      "cell_type": "markdown",
      "source": [
        "Step 1: Import Required Libraries\n",
        "\n",
        "Import the necessary libraries: numpy, pandas, tensorflow, and keras."
      ],
      "metadata": {
        "id": "P7frb-RXhG9Q"
      }
    },
    {
      "cell_type": "code",
      "source": [
        "import numpy as np\n",
        "import pandas as pd\n",
        "import tensorflow as tf\n",
        "from tensorflow import keras"
      ],
      "metadata": {
        "id": "MU5wsjxghVrF"
      },
      "execution_count": null,
      "outputs": []
    },
    {
      "cell_type": "markdown",
      "source": [
        "Step 2: Load and Preprocess the Data\n",
        "\n",
        "Load the dataset for your binary classification problem.\n",
        "Preprocess the data as needed (e.g., handling missing values, feature scaling, encoding categorical variables, etc.).\n",
        "Split the dataset into input features (X) and target variable (y)."
      ],
      "metadata": {
        "id": "m-QOJNOVhHAn"
      }
    },
    {
      "cell_type": "code",
      "source": [
        "url = \"https://archive.ics.uci.edu/ml/machine-learning-databases/breast-cancer-wisconsin/wdbc.data\"\n",
        "df = pd.read_csv(url, header=None)\n",
        "\n",
        "# Preprocess the data\n",
        "# Assuming the target variable is in the first column and features in the rest\n",
        "X = df.iloc[:, 2:]  # Features\n",
        "y = df.iloc[:, 1]   # Target variable\n",
        "y\n",
        "X\n",
        "from sklearn.preprocessing import LabelEncoder\n",
        "label_encoder=LabelEncoder()\n",
        "y=label_encoder.fit_transform(y)\n",
        "# y=pd.DataFrame(y)\n",
        "y\n",
        "# X"
      ],
      "metadata": {
        "id": "3WMvUd8bhWu8",
        "colab": {
          "base_uri": "https://localhost:8080/"
        },
        "outputId": "7df74c87-3f0f-448d-bc3f-08713bc44136"
      },
      "execution_count": null,
      "outputs": [
        {
          "output_type": "execute_result",
          "data": {
            "text/plain": [
              "array([1, 1, 1, 1, 1, 1, 1, 1, 1, 1, 1, 1, 1, 1, 1, 1, 1, 1, 1, 0, 0, 0,\n",
              "       1, 1, 1, 1, 1, 1, 1, 1, 1, 1, 1, 1, 1, 1, 1, 0, 1, 1, 1, 1, 1, 1,\n",
              "       1, 1, 0, 1, 0, 0, 0, 0, 0, 1, 1, 0, 1, 1, 0, 0, 0, 0, 1, 0, 1, 1,\n",
              "       0, 0, 0, 0, 1, 0, 1, 1, 0, 1, 0, 1, 1, 0, 0, 0, 1, 1, 0, 1, 1, 1,\n",
              "       0, 0, 0, 1, 0, 0, 1, 1, 0, 0, 0, 1, 1, 0, 0, 0, 0, 1, 0, 0, 1, 0,\n",
              "       0, 0, 0, 0, 0, 0, 0, 1, 1, 1, 0, 1, 1, 0, 0, 0, 1, 1, 0, 1, 0, 1,\n",
              "       1, 0, 1, 1, 0, 0, 1, 0, 0, 1, 0, 0, 0, 0, 1, 0, 0, 0, 0, 0, 0, 0,\n",
              "       0, 0, 1, 0, 0, 0, 0, 1, 1, 0, 1, 0, 0, 1, 1, 0, 0, 1, 1, 0, 0, 0,\n",
              "       0, 1, 0, 0, 1, 1, 1, 0, 1, 0, 1, 0, 0, 0, 1, 0, 0, 1, 1, 0, 1, 1,\n",
              "       1, 1, 0, 1, 1, 1, 0, 1, 0, 1, 0, 0, 1, 0, 1, 1, 1, 1, 0, 0, 1, 1,\n",
              "       0, 0, 0, 1, 0, 0, 0, 0, 0, 1, 1, 0, 0, 1, 0, 0, 1, 1, 0, 1, 0, 0,\n",
              "       0, 0, 1, 0, 0, 0, 0, 0, 1, 0, 1, 1, 1, 1, 1, 1, 1, 1, 1, 1, 1, 1,\n",
              "       1, 1, 0, 0, 0, 0, 0, 0, 1, 0, 1, 0, 0, 1, 0, 0, 1, 0, 1, 1, 0, 0,\n",
              "       0, 0, 0, 0, 0, 0, 0, 0, 0, 0, 0, 1, 0, 0, 1, 0, 1, 0, 0, 0, 0, 0,\n",
              "       0, 0, 0, 0, 0, 0, 0, 0, 0, 1, 0, 0, 0, 1, 0, 1, 0, 0, 0, 0, 1, 1,\n",
              "       1, 0, 0, 0, 0, 1, 0, 1, 0, 1, 0, 0, 0, 1, 0, 0, 0, 0, 0, 0, 0, 1,\n",
              "       1, 1, 0, 0, 0, 0, 0, 0, 0, 0, 0, 0, 0, 1, 1, 0, 1, 1, 1, 0, 1, 1,\n",
              "       0, 0, 0, 0, 0, 1, 0, 0, 0, 0, 0, 1, 0, 0, 0, 1, 0, 0, 1, 1, 0, 0,\n",
              "       0, 0, 0, 0, 1, 0, 0, 0, 0, 0, 0, 0, 1, 0, 0, 0, 0, 0, 1, 0, 0, 1,\n",
              "       0, 0, 0, 0, 0, 0, 0, 0, 0, 0, 0, 0, 1, 0, 1, 1, 0, 1, 0, 0, 0, 0,\n",
              "       0, 1, 0, 0, 1, 0, 1, 0, 0, 1, 0, 1, 0, 0, 0, 0, 0, 0, 0, 0, 1, 1,\n",
              "       0, 0, 0, 0, 0, 0, 1, 0, 0, 0, 0, 0, 0, 0, 0, 0, 0, 1, 0, 0, 0, 0,\n",
              "       0, 0, 0, 1, 0, 1, 0, 0, 1, 0, 0, 0, 0, 0, 1, 1, 0, 1, 0, 1, 0, 0,\n",
              "       0, 0, 0, 1, 0, 0, 1, 0, 1, 0, 1, 1, 0, 0, 0, 1, 0, 0, 0, 0, 0, 0,\n",
              "       0, 0, 0, 0, 0, 1, 0, 1, 1, 0, 0, 0, 0, 0, 0, 0, 0, 0, 0, 0, 0, 0,\n",
              "       0, 0, 0, 0, 0, 0, 0, 0, 0, 0, 0, 0, 1, 1, 1, 1, 1, 1, 0])"
            ]
          },
          "metadata": {},
          "execution_count": 4
        }
      ]
    },
    {
      "cell_type": "markdown",
      "source": [
        "Step 3: Split the Data into Training and Test Sets\n",
        "\n",
        "Split the preprocessed data into training and test sets using the train_test_split function from sklearn.model_selection.\n"
      ],
      "metadata": {
        "id": "NbsL--bnhHDf"
      }
    },
    {
      "cell_type": "code",
      "source": [
        "from sklearn.model_selection import train_test_split\n",
        "X_train,X_test,y_train,y_test=train_test_split(X,y,random_state=40,test_size=0.25)\n",
        "# X_test.iloc[:,1:].shape"
      ],
      "metadata": {
        "id": "uFILFWzsh0Fs"
      },
      "execution_count": null,
      "outputs": []
    },
    {
      "cell_type": "code",
      "source": [
        "from sklearn.preprocessing import MinMaxScaler, Normalizer\n",
        "X_train = MinMaxScaler().fit_transform(X_train)\n",
        "print(\"Training Data :\", X_train.shape)\n",
        "\n",
        "# Testing Data\n",
        "# X_test = X_test.iloc[:,1:]\n",
        "X_test = MinMaxScaler().fit_transform(X_test)\n",
        "print(\"Testing Data :\", X_test.shape)"
      ],
      "metadata": {
        "colab": {
          "base_uri": "https://localhost:8080/"
        },
        "id": "nhoarVsydnm8",
        "outputId": "9c70293e-71e2-486e-ae54-2b76a0ee954d"
      },
      "execution_count": null,
      "outputs": [
        {
          "output_type": "stream",
          "name": "stdout",
          "text": [
            "Training Data : (426, 30)\n",
            "Testing Data : (143, 30)\n"
          ]
        }
      ]
    },
    {
      "cell_type": "markdown",
      "source": [
        "Step 4: Create the ANN Model\n",
        "\n",
        "Import the necessary classes and functions from Keras (Sequential, Dense, Activation, Optimizer, etc.).\n",
        "Create an instance of the Sequential class to initialize the model.\n",
        "Add the input layer and hidden layers to the model using the add method.\n",
        "Choose appropriate activation functions for the hidden layers.\n",
        "Add the output layer with a single unit and a suitable activation function for binary classification (e.g., sigmoid).\n",
        "Compile the model with an appropriate loss function (e.g., binary_crossentropy for binary classification) and optimizer."
      ],
      "metadata": {
        "id": "PuzlSgi9hHGr"
      }
    },
    {
      "cell_type": "code",
      "source": [
        "import keras\n",
        "from keras.models import Sequential\n",
        "from keras.layers import Dense\n",
        "from keras.layers import Dropout\n",
        "classifier=Sequential()\n",
        "classifier.add(Dense(units=8,kernel_initializer='uniform',activation='relu',input_dim=30))\n",
        "classifier.add(Dropout(0.4))\n",
        "classifier.add(Dense(units=9,kernel_initializer='uniform',activation='relu'))\n",
        "classifier.add(Dropout(0.2))\n",
        "classifier.add(Dense(units=1,kernel_initializer='uniform',activation='sigmoid'))\n",
        "classifier.compile(optimizer='adam',loss='binary_crossentropy',metrics=['accuracy'])"
      ],
      "metadata": {
        "id": "35jCb4WHh4cN"
      },
      "execution_count": null,
      "outputs": []
    },
    {
      "cell_type": "markdown",
      "source": [
        "Step 5: Train the ANN Model\n",
        "\n",
        "Fit the model to the training data using the fit method.\n",
        "Specify the number of epochs (iterations) and batch size.\n",
        "Monitor the model's performance on the training set during training (e.g., accuracy, loss)."
      ],
      "metadata": {
        "id": "ur9GvrK9hHJO"
      }
    },
    {
      "cell_type": "code",
      "source": [
        "classifier.fit(X_train,y_train,batch_size=10,epochs=100)"
      ],
      "metadata": {
        "id": "mM4kPhXBh7aR",
        "colab": {
          "base_uri": "https://localhost:8080/"
        },
        "outputId": "d0a90f04-a05d-4ed1-d982-f02d24f3138a"
      },
      "execution_count": null,
      "outputs": [
        {
          "output_type": "stream",
          "name": "stdout",
          "text": [
            "Epoch 1/100\n",
            "43/43 [==============================] - 1s 3ms/step - loss: 0.6913 - accuracy: 0.6056\n",
            "Epoch 2/100\n",
            "43/43 [==============================] - 0s 3ms/step - loss: 0.6858 - accuracy: 0.6432\n",
            "Epoch 3/100\n",
            "43/43 [==============================] - 0s 3ms/step - loss: 0.6679 - accuracy: 0.8216\n",
            "Epoch 4/100\n",
            "43/43 [==============================] - 0s 3ms/step - loss: 0.6205 - accuracy: 0.8803\n",
            "Epoch 5/100\n",
            "43/43 [==============================] - 0s 3ms/step - loss: 0.5672 - accuracy: 0.8756\n",
            "Epoch 6/100\n",
            "43/43 [==============================] - 0s 3ms/step - loss: 0.5051 - accuracy: 0.8991\n",
            "Epoch 7/100\n",
            "43/43 [==============================] - 0s 3ms/step - loss: 0.4519 - accuracy: 0.8967\n",
            "Epoch 8/100\n",
            "43/43 [==============================] - 0s 2ms/step - loss: 0.4036 - accuracy: 0.9014\n",
            "Epoch 9/100\n",
            "43/43 [==============================] - 0s 3ms/step - loss: 0.3699 - accuracy: 0.8944\n",
            "Epoch 10/100\n",
            "43/43 [==============================] - 0s 3ms/step - loss: 0.3297 - accuracy: 0.8967\n",
            "Epoch 11/100\n",
            "43/43 [==============================] - 0s 3ms/step - loss: 0.3007 - accuracy: 0.9038\n",
            "Epoch 12/100\n",
            "43/43 [==============================] - 0s 3ms/step - loss: 0.2803 - accuracy: 0.9085\n",
            "Epoch 13/100\n",
            "43/43 [==============================] - 0s 3ms/step - loss: 0.2824 - accuracy: 0.9014\n",
            "Epoch 14/100\n",
            "43/43 [==============================] - 0s 3ms/step - loss: 0.2791 - accuracy: 0.9085\n",
            "Epoch 15/100\n",
            "43/43 [==============================] - 0s 2ms/step - loss: 0.2602 - accuracy: 0.9085\n",
            "Epoch 16/100\n",
            "43/43 [==============================] - 0s 2ms/step - loss: 0.2404 - accuracy: 0.9108\n",
            "Epoch 17/100\n",
            "43/43 [==============================] - 0s 2ms/step - loss: 0.2369 - accuracy: 0.9225\n",
            "Epoch 18/100\n",
            "43/43 [==============================] - 0s 3ms/step - loss: 0.2314 - accuracy: 0.9202\n",
            "Epoch 19/100\n",
            "43/43 [==============================] - 0s 3ms/step - loss: 0.2085 - accuracy: 0.9225\n",
            "Epoch 20/100\n",
            "43/43 [==============================] - 0s 3ms/step - loss: 0.2216 - accuracy: 0.9202\n",
            "Epoch 21/100\n",
            "43/43 [==============================] - 0s 3ms/step - loss: 0.2070 - accuracy: 0.9319\n",
            "Epoch 22/100\n",
            "43/43 [==============================] - 0s 2ms/step - loss: 0.1763 - accuracy: 0.9484\n",
            "Epoch 23/100\n",
            "43/43 [==============================] - 0s 3ms/step - loss: 0.1856 - accuracy: 0.9484\n",
            "Epoch 24/100\n",
            "43/43 [==============================] - 0s 3ms/step - loss: 0.1832 - accuracy: 0.9437\n",
            "Epoch 25/100\n",
            "43/43 [==============================] - 0s 3ms/step - loss: 0.1728 - accuracy: 0.9437\n",
            "Epoch 26/100\n",
            "43/43 [==============================] - 0s 3ms/step - loss: 0.1807 - accuracy: 0.9366\n",
            "Epoch 27/100\n",
            "43/43 [==============================] - 0s 2ms/step - loss: 0.1719 - accuracy: 0.9460\n",
            "Epoch 28/100\n",
            "43/43 [==============================] - 0s 3ms/step - loss: 0.1779 - accuracy: 0.9390\n",
            "Epoch 29/100\n",
            "43/43 [==============================] - 0s 4ms/step - loss: 0.1601 - accuracy: 0.9460\n",
            "Epoch 30/100\n",
            "43/43 [==============================] - 0s 4ms/step - loss: 0.1754 - accuracy: 0.9296\n",
            "Epoch 31/100\n",
            "43/43 [==============================] - 0s 4ms/step - loss: 0.1519 - accuracy: 0.9484\n",
            "Epoch 32/100\n",
            "43/43 [==============================] - 0s 4ms/step - loss: 0.1482 - accuracy: 0.9554\n",
            "Epoch 33/100\n",
            "43/43 [==============================] - 0s 4ms/step - loss: 0.1595 - accuracy: 0.9413\n",
            "Epoch 34/100\n",
            "43/43 [==============================] - 0s 4ms/step - loss: 0.1510 - accuracy: 0.9484\n",
            "Epoch 35/100\n",
            "43/43 [==============================] - 0s 4ms/step - loss: 0.1507 - accuracy: 0.9413\n",
            "Epoch 36/100\n",
            "43/43 [==============================] - 0s 4ms/step - loss: 0.1303 - accuracy: 0.9554\n",
            "Epoch 37/100\n",
            "43/43 [==============================] - 0s 3ms/step - loss: 0.1463 - accuracy: 0.9460\n",
            "Epoch 38/100\n",
            "43/43 [==============================] - 0s 4ms/step - loss: 0.1191 - accuracy: 0.9624\n",
            "Epoch 39/100\n",
            "43/43 [==============================] - 0s 5ms/step - loss: 0.1334 - accuracy: 0.9554\n",
            "Epoch 40/100\n",
            "43/43 [==============================] - 0s 4ms/step - loss: 0.1128 - accuracy: 0.9624\n",
            "Epoch 41/100\n",
            "43/43 [==============================] - 0s 5ms/step - loss: 0.1121 - accuracy: 0.9601\n",
            "Epoch 42/100\n",
            "43/43 [==============================] - 0s 5ms/step - loss: 0.1539 - accuracy: 0.9437\n",
            "Epoch 43/100\n",
            "43/43 [==============================] - 0s 6ms/step - loss: 0.1162 - accuracy: 0.9671\n",
            "Epoch 44/100\n",
            "43/43 [==============================] - 0s 4ms/step - loss: 0.1375 - accuracy: 0.9554\n",
            "Epoch 45/100\n",
            "43/43 [==============================] - 0s 5ms/step - loss: 0.1398 - accuracy: 0.9507\n",
            "Epoch 46/100\n",
            "43/43 [==============================] - 0s 4ms/step - loss: 0.1168 - accuracy: 0.9577\n",
            "Epoch 47/100\n",
            "43/43 [==============================] - 0s 3ms/step - loss: 0.1329 - accuracy: 0.9531\n",
            "Epoch 48/100\n",
            "43/43 [==============================] - 0s 5ms/step - loss: 0.1112 - accuracy: 0.9671\n",
            "Epoch 49/100\n",
            "43/43 [==============================] - 0s 4ms/step - loss: 0.1222 - accuracy: 0.9601\n",
            "Epoch 50/100\n",
            "43/43 [==============================] - 0s 4ms/step - loss: 0.1085 - accuracy: 0.9671\n",
            "Epoch 51/100\n",
            "43/43 [==============================] - 0s 3ms/step - loss: 0.1188 - accuracy: 0.9601\n",
            "Epoch 52/100\n",
            "43/43 [==============================] - 0s 3ms/step - loss: 0.1428 - accuracy: 0.9507\n",
            "Epoch 53/100\n",
            "43/43 [==============================] - 0s 3ms/step - loss: 0.1207 - accuracy: 0.9624\n",
            "Epoch 54/100\n",
            "43/43 [==============================] - 0s 3ms/step - loss: 0.1116 - accuracy: 0.9624\n",
            "Epoch 55/100\n",
            "43/43 [==============================] - 0s 3ms/step - loss: 0.1003 - accuracy: 0.9742\n",
            "Epoch 56/100\n",
            "43/43 [==============================] - 0s 2ms/step - loss: 0.1240 - accuracy: 0.9531\n",
            "Epoch 57/100\n",
            "43/43 [==============================] - 0s 3ms/step - loss: 0.1029 - accuracy: 0.9718\n",
            "Epoch 58/100\n",
            "43/43 [==============================] - 0s 3ms/step - loss: 0.0889 - accuracy: 0.9718\n",
            "Epoch 59/100\n",
            "43/43 [==============================] - 0s 3ms/step - loss: 0.1095 - accuracy: 0.9577\n",
            "Epoch 60/100\n",
            "43/43 [==============================] - 0s 3ms/step - loss: 0.1207 - accuracy: 0.9624\n",
            "Epoch 61/100\n",
            "43/43 [==============================] - 0s 2ms/step - loss: 0.1206 - accuracy: 0.9601\n",
            "Epoch 62/100\n",
            "43/43 [==============================] - 0s 3ms/step - loss: 0.0993 - accuracy: 0.9695\n",
            "Epoch 63/100\n",
            "43/43 [==============================] - 0s 3ms/step - loss: 0.0947 - accuracy: 0.9695\n",
            "Epoch 64/100\n",
            "43/43 [==============================] - 0s 3ms/step - loss: 0.0911 - accuracy: 0.9742\n",
            "Epoch 65/100\n",
            "43/43 [==============================] - 0s 3ms/step - loss: 0.1116 - accuracy: 0.9648\n",
            "Epoch 66/100\n",
            "43/43 [==============================] - 0s 3ms/step - loss: 0.0861 - accuracy: 0.9789\n",
            "Epoch 67/100\n",
            "43/43 [==============================] - 0s 3ms/step - loss: 0.0996 - accuracy: 0.9648\n",
            "Epoch 68/100\n",
            "43/43 [==============================] - 0s 2ms/step - loss: 0.1049 - accuracy: 0.9601\n",
            "Epoch 69/100\n",
            "43/43 [==============================] - 0s 2ms/step - loss: 0.0862 - accuracy: 0.9742\n",
            "Epoch 70/100\n",
            "43/43 [==============================] - 0s 2ms/step - loss: 0.1009 - accuracy: 0.9648\n",
            "Epoch 71/100\n",
            "43/43 [==============================] - 0s 3ms/step - loss: 0.0993 - accuracy: 0.9671\n",
            "Epoch 72/100\n",
            "43/43 [==============================] - 0s 3ms/step - loss: 0.0950 - accuracy: 0.9601\n",
            "Epoch 73/100\n",
            "43/43 [==============================] - 0s 3ms/step - loss: 0.1115 - accuracy: 0.9671\n",
            "Epoch 74/100\n",
            "43/43 [==============================] - 0s 3ms/step - loss: 0.0843 - accuracy: 0.9718\n",
            "Epoch 75/100\n",
            "43/43 [==============================] - 0s 3ms/step - loss: 0.0808 - accuracy: 0.9671\n",
            "Epoch 76/100\n",
            "43/43 [==============================] - 0s 3ms/step - loss: 0.1023 - accuracy: 0.9624\n",
            "Epoch 77/100\n",
            "43/43 [==============================] - 0s 3ms/step - loss: 0.0819 - accuracy: 0.9765\n",
            "Epoch 78/100\n",
            "43/43 [==============================] - 0s 3ms/step - loss: 0.0999 - accuracy: 0.9695\n",
            "Epoch 79/100\n",
            "43/43 [==============================] - 0s 3ms/step - loss: 0.0812 - accuracy: 0.9718\n",
            "Epoch 80/100\n",
            "43/43 [==============================] - 0s 3ms/step - loss: 0.0794 - accuracy: 0.9718\n",
            "Epoch 81/100\n",
            "43/43 [==============================] - 0s 3ms/step - loss: 0.0915 - accuracy: 0.9695\n",
            "Epoch 82/100\n",
            "43/43 [==============================] - 0s 3ms/step - loss: 0.1092 - accuracy: 0.9624\n",
            "Epoch 83/100\n",
            "43/43 [==============================] - 0s 3ms/step - loss: 0.0845 - accuracy: 0.9742\n",
            "Epoch 84/100\n",
            "43/43 [==============================] - 0s 3ms/step - loss: 0.0837 - accuracy: 0.9765\n",
            "Epoch 85/100\n",
            "43/43 [==============================] - 0s 3ms/step - loss: 0.0896 - accuracy: 0.9695\n",
            "Epoch 86/100\n",
            "43/43 [==============================] - 0s 3ms/step - loss: 0.1095 - accuracy: 0.9648\n",
            "Epoch 87/100\n",
            "43/43 [==============================] - 0s 3ms/step - loss: 0.0932 - accuracy: 0.9695\n",
            "Epoch 88/100\n",
            "43/43 [==============================] - 0s 3ms/step - loss: 0.1178 - accuracy: 0.9554\n",
            "Epoch 89/100\n",
            "43/43 [==============================] - 0s 3ms/step - loss: 0.0905 - accuracy: 0.9718\n",
            "Epoch 90/100\n",
            "43/43 [==============================] - 0s 3ms/step - loss: 0.0864 - accuracy: 0.9718\n",
            "Epoch 91/100\n",
            "43/43 [==============================] - 0s 3ms/step - loss: 0.1004 - accuracy: 0.9718\n",
            "Epoch 92/100\n",
            "43/43 [==============================] - 0s 3ms/step - loss: 0.0767 - accuracy: 0.9789\n",
            "Epoch 93/100\n",
            "43/43 [==============================] - 0s 3ms/step - loss: 0.0841 - accuracy: 0.9765\n",
            "Epoch 94/100\n",
            "43/43 [==============================] - 0s 3ms/step - loss: 0.0913 - accuracy: 0.9765\n",
            "Epoch 95/100\n",
            "43/43 [==============================] - 0s 3ms/step - loss: 0.0827 - accuracy: 0.9742\n",
            "Epoch 96/100\n",
            "43/43 [==============================] - 0s 3ms/step - loss: 0.0834 - accuracy: 0.9695\n",
            "Epoch 97/100\n",
            "43/43 [==============================] - 0s 3ms/step - loss: 0.0985 - accuracy: 0.9718\n",
            "Epoch 98/100\n",
            "43/43 [==============================] - 0s 3ms/step - loss: 0.0816 - accuracy: 0.9765\n",
            "Epoch 99/100\n",
            "43/43 [==============================] - 0s 5ms/step - loss: 0.1045 - accuracy: 0.9695\n",
            "Epoch 100/100\n",
            "43/43 [==============================] - 0s 5ms/step - loss: 0.0577 - accuracy: 0.9836\n"
          ]
        },
        {
          "output_type": "execute_result",
          "data": {
            "text/plain": [
              "<keras.callbacks.History at 0x7f1866159150>"
            ]
          },
          "metadata": {},
          "execution_count": 129
        }
      ]
    },
    {
      "cell_type": "markdown",
      "source": [
        " Step 6 :Evaluate the Model\n",
        "\n",
        "Use the trained model to make predictions on the test set.\n",
        "Evaluate the model's performance using appropriate evaluation metrics (e.g., accuracy).\n"
      ],
      "metadata": {
        "id": "utlFN-VXhHLz"
      }
    },
    {
      "cell_type": "code",
      "source": [
        "y_pred=classifier.predict(X_test)\n",
        "y_pred=(y_pred>0.5)\n",
        "print(y_pred)"
      ],
      "metadata": {
        "id": "6gdxzocKiI4x",
        "colab": {
          "base_uri": "https://localhost:8080/"
        },
        "outputId": "53280fe6-2109-4dff-85e6-43631ba21aed"
      },
      "execution_count": null,
      "outputs": [
        {
          "output_type": "stream",
          "name": "stdout",
          "text": [
            "5/5 [==============================] - 0s 6ms/step\n",
            "[[False]\n",
            " [ True]\n",
            " [False]\n",
            " [False]\n",
            " [ True]\n",
            " [False]\n",
            " [False]\n",
            " [False]\n",
            " [ True]\n",
            " [False]\n",
            " [ True]\n",
            " [False]\n",
            " [False]\n",
            " [False]\n",
            " [ True]\n",
            " [False]\n",
            " [False]\n",
            " [False]\n",
            " [False]\n",
            " [False]\n",
            " [False]\n",
            " [ True]\n",
            " [False]\n",
            " [ True]\n",
            " [ True]\n",
            " [ True]\n",
            " [ True]\n",
            " [ True]\n",
            " [False]\n",
            " [False]\n",
            " [False]\n",
            " [ True]\n",
            " [ True]\n",
            " [False]\n",
            " [False]\n",
            " [False]\n",
            " [False]\n",
            " [ True]\n",
            " [False]\n",
            " [False]\n",
            " [ True]\n",
            " [False]\n",
            " [False]\n",
            " [False]\n",
            " [ True]\n",
            " [ True]\n",
            " [False]\n",
            " [ True]\n",
            " [ True]\n",
            " [False]\n",
            " [ True]\n",
            " [False]\n",
            " [False]\n",
            " [False]\n",
            " [False]\n",
            " [False]\n",
            " [False]\n",
            " [ True]\n",
            " [ True]\n",
            " [False]\n",
            " [False]\n",
            " [False]\n",
            " [False]\n",
            " [False]\n",
            " [False]\n",
            " [ True]\n",
            " [ True]\n",
            " [ True]\n",
            " [False]\n",
            " [False]\n",
            " [False]\n",
            " [ True]\n",
            " [ True]\n",
            " [False]\n",
            " [ True]\n",
            " [ True]\n",
            " [ True]\n",
            " [False]\n",
            " [False]\n",
            " [False]\n",
            " [False]\n",
            " [False]\n",
            " [ True]\n",
            " [False]\n",
            " [ True]\n",
            " [False]\n",
            " [ True]\n",
            " [ True]\n",
            " [False]\n",
            " [ True]\n",
            " [ True]\n",
            " [False]\n",
            " [False]\n",
            " [False]\n",
            " [False]\n",
            " [ True]\n",
            " [False]\n",
            " [False]\n",
            " [False]\n",
            " [False]\n",
            " [False]\n",
            " [False]\n",
            " [False]\n",
            " [ True]\n",
            " [False]\n",
            " [False]\n",
            " [False]\n",
            " [ True]\n",
            " [False]\n",
            " [False]\n",
            " [False]\n",
            " [False]\n",
            " [ True]\n",
            " [False]\n",
            " [ True]\n",
            " [False]\n",
            " [False]\n",
            " [False]\n",
            " [False]\n",
            " [ True]\n",
            " [ True]\n",
            " [False]\n",
            " [False]\n",
            " [False]\n",
            " [False]\n",
            " [ True]\n",
            " [ True]\n",
            " [False]\n",
            " [False]\n",
            " [False]\n",
            " [False]\n",
            " [False]\n",
            " [False]\n",
            " [False]\n",
            " [False]\n",
            " [False]\n",
            " [False]\n",
            " [False]\n",
            " [ True]\n",
            " [False]\n",
            " [False]\n",
            " [False]\n",
            " [False]]\n"
          ]
        }
      ]
    },
    {
      "cell_type": "markdown",
      "source": [
        "Experiment and Improve\n",
        "\n",
        "Experiment with different architectural choices (e.g., number of hidden layers, number of units in each layer) to improve the model's performance.\n",
        "Try different activation functions, optimizers, and learning rates.\n",
        "Consider regularizing the model (e.g., adding dropout, L1/L2 regularization) to prevent overfitting.\n",
        "Iterate on the previous steps until you achieve satisfactory results."
      ],
      "metadata": {
        "id": "-6HbH4m3hHS3"
      }
    },
    {
      "cell_type": "code",
      "source": [
        "loss,accuracy=classifier.evaluate(X_test,y_test)\n",
        "print(accuracy)"
      ],
      "metadata": {
        "id": "2aSv8lCIiT9E",
        "colab": {
          "base_uri": "https://localhost:8080/"
        },
        "outputId": "cdded8e3-d64b-4410-9fe1-45570e8bbbd0"
      },
      "execution_count": null,
      "outputs": [
        {
          "output_type": "stream",
          "name": "stdout",
          "text": [
            "5/5 [==============================] - 0s 8ms/step - loss: 0.1050 - accuracy: 0.9650\n",
            "0.9650349617004395\n"
          ]
        }
      ]
    },
    {
      "cell_type": "code",
      "source": [
        "from sklearn.metrics import confusion_matrix\n",
        "cm=confusion_matrix(y_test,y_pred)\n",
        "print(cm)"
      ],
      "metadata": {
        "colab": {
          "base_uri": "https://localhost:8080/"
        },
        "id": "eS9sq-lucRUB",
        "outputId": "11bb9c64-c329-4882-f7db-a8a1c845fe90"
      },
      "execution_count": null,
      "outputs": [
        {
          "output_type": "stream",
          "name": "stdout",
          "text": [
            "[[95  3]\n",
            " [ 2 43]]\n"
          ]
        }
      ]
    },
    {
      "cell_type": "markdown",
      "source": [
        "Hints:\n",
        "\n",
        "The Keras documentation (https://keras.io) provides detailed information about the various layers, activation functions, optimizers, and other components you can use in your ANN.\n",
        "Remember to preprocess your data appropriately before training the model.\n",
        "Start with a simple architecture and gradually increase the complexity if needed.\n",
        "Monitor the model's performance during training to detect overfitting or underfitting.\n",
        "Experiment with different hyperparameters to find the best combination for your problem."
      ],
      "metadata": {
        "id": "D5hsGmc3hHWT"
      }
    },
    {
      "cell_type": "code",
      "source": [],
      "metadata": {
        "id": "ItfvWYsteOSP"
      },
      "execution_count": null,
      "outputs": []
    }
  ]
}